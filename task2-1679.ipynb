{
  "nbformat": 4,
  "nbformat_minor": 0,
  "metadata": {
    "colab": {
      "provenance": [],
      "authorship_tag": "ABX9TyN41ymhNEjnYTMLcSpbielT",
      "include_colab_link": true
    },
    "kernelspec": {
      "name": "python3",
      "display_name": "Python 3"
    },
    "language_info": {
      "name": "python"
    }
  },
  "cells": [
    {
      "cell_type": "markdown",
      "metadata": {
        "id": "view-in-github",
        "colab_type": "text"
      },
      "source": [
        "<a href=\"https://colab.research.google.com/github/Poojith1679/0101679/blob/main/task2-1679.ipynb\" target=\"_parent\"><img src=\"https://colab.research.google.com/assets/colab-badge.svg\" alt=\"Open In Colab\"/></a>"
      ]
    },
    {
      "cell_type": "code",
      "source": [
        "digits = 2\n",
        "digit2 = 1\n",
        "result = digits + digit2\n",
        "print(f\"Sum of {digits} and {digit2} is {result}\")"
      ],
      "metadata": {
        "colab": {
          "base_uri": "https://localhost:8080/"
        },
        "id": "X_BNLNK4NbP_",
        "outputId": "19cf0c7a-286b-492f-f4fa-d1a80854ee10"
      },
      "execution_count": 4,
      "outputs": [
        {
          "output_type": "stream",
          "name": "stdout",
          "text": [
            "Sum of 2 and 1 is 3\n"
          ]
        }
      ]
    },
    {
      "cell_type": "code",
      "source": [
        "try:\n",
        "  x = int(input(\"Enter a number: \"))\n",
        "  y = int(input(\"Enter another number: \"))\n",
        "  result = x + y\n",
        "  print(f\"The sum of {x} and {y} is {result}\")\n",
        "except ValueError:\n",
        "  print(\"Invalid input. Please enter a number.\")"
      ],
      "metadata": {
        "colab": {
          "base_uri": "https://localhost:8080/"
        },
        "id": "bE6uNdnaNedH",
        "outputId": "340e8d04-4e6a-488f-d1db-38dc3c7c9c7c"
      },
      "execution_count": 5,
      "outputs": [
        {
          "output_type": "stream",
          "name": "stdout",
          "text": [
            "Enter a number: 4\n",
            "Enter another number: 4\n",
            "The sum of 4 and 4 is 8\n"
          ]
        }
      ]
    },
    {
      "cell_type": "code",
      "source": [
        "with open('/content/single_input_text.txt', 'w') as file:\n",
        "  file.write(\"25\")\n",
        "  print(\"single_input.txt created!\")"
      ],
      "metadata": {
        "colab": {
          "base_uri": "https://localhost:8080/"
        },
        "id": "v-6dMlUVN1I_",
        "outputId": "eacf74df-9c0a-40bb-f7af-4ee3c5e0a361"
      },
      "execution_count": 6,
      "outputs": [
        {
          "output_type": "stream",
          "name": "stdout",
          "text": [
            "single_input.txt created!\n"
          ]
        }
      ]
    },
    {
      "cell_type": "code",
      "source": [
        "try:\n",
        "    with open('/content/single_input_text.txt', 'r') as file:\n",
        "        num = int(file.read().strip())\n",
        "        result = num + 10\n",
        "        print(f\"Number from file: {num}, After addition: {result}\")\n",
        "except FileNotFoundError:\n",
        "    print(\"File not found. Please create a file named 'single_input.txt'.\")\n",
        "except ValueError:\n",
        "    print(\"File content must be a valid integer.\")\n"
      ],
      "metadata": {
        "colab": {
          "base_uri": "https://localhost:8080/"
        },
        "id": "tMFP48jnQFbV",
        "outputId": "feb59ce3-db2b-41cc-9dbb-48ea989bc420"
      },
      "execution_count": 8,
      "outputs": [
        {
          "output_type": "stream",
          "name": "stdout",
          "text": [
            "Number from file: 25, After addition: 35\n"
          ]
        }
      ]
    },
    {
      "cell_type": "code",
      "source": [
        "with open('/content/multiple_inputs.txt', 'w') as file:\n",
        "    file.write(\"10\\n20\\n30\")\n",
        "    print(\"multiple_inputs.txt created!\")\n"
      ],
      "metadata": {
        "colab": {
          "base_uri": "https://localhost:8080/"
        },
        "id": "07-GKDX9Q8dt",
        "outputId": "9e1fbb42-b420-4d39-9f43-cb9ea1bfff49"
      },
      "execution_count": 9,
      "outputs": [
        {
          "output_type": "stream",
          "name": "stdout",
          "text": [
            "multiple_inputs.txt created!\n"
          ]
        }
      ]
    },
    {
      "cell_type": "code",
      "source": [
        "try:\n",
        "    with open('/content/multiple_inputs.txt', 'r') as file:\n",
        "        numbers = file.readlines()\n",
        "        numbers = [int(num.strip()) for num in numbers]\n",
        "        result = sum(numbers)\n",
        "        print(f\"Numbers from file: {numbers}, Sum: {result}\")\n",
        "except FileNotFoundError:\n",
        "    print(\"File not found. Please create a file named 'multiple_inputs.txt'.\")\n",
        "except ValueError:\n",
        "    print(\"Invalid input in the file. Please enter only numbers.\")\n"
      ],
      "metadata": {
        "colab": {
          "base_uri": "https://localhost:8080/"
        },
        "id": "EuQPDy8YRB_V",
        "outputId": "4fceaa7f-30ea-42bd-98b0-264f994cd06a"
      },
      "execution_count": 10,
      "outputs": [
        {
          "output_type": "stream",
          "name": "stdout",
          "text": [
            "Numbers from file: [10, 20, 30], Sum: 60\n"
          ]
        }
      ]
    },
    {
      "cell_type": "code",
      "source": [],
      "metadata": {
        "id": "l15i3fi1REul"
      },
      "execution_count": null,
      "outputs": []
    }
  ]
}